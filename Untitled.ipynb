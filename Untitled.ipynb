{
 "cells": [
  {
   "cell_type": "markdown",
   "metadata": {},
   "source": [
    "# NORTHWIND TRENDS "
   ]
  },
  {
   "cell_type": "markdown",
   "metadata": {},
   "source": [
    "### Brian Caterfino -- Module 2 Final Project "
   ]
  },
  {
   "cell_type": "markdown",
   "metadata": {},
   "source": [
    "#### Searching for meaningful connections between Northwind sales data. Here is the mapping of the relational database provided for Northwind. I will use this data to draw four meaningful conclusions about the sales from this fictional company. "
   ]
  },
  {
   "cell_type": "markdown",
   "metadata": {},
   "source": [
    "<img src=\"files/Northwind_ERD.png\">"
   ]
  },
  {
   "cell_type": "markdown",
   "metadata": {},
   "source": [
    "## Introduction - Obtaining Data"
   ]
  },
  {
   "cell_type": "markdown",
   "metadata": {},
   "source": [
    "I start by importing a few python packages, and create a connection to the relational database. "
   ]
  },
  {
   "cell_type": "code",
   "execution_count": 1,
   "metadata": {},
   "outputs": [],
   "source": [
    "from scipy import stats \n",
    "import math\n",
    "import numpy as np\n",
    "import sqlalchemy\n",
    "from sqlalchemy import inspect\n",
    "from sqlalchemy import create_engine\n",
    "from sqlalchemy.orm import Session, sessionmaker\n",
    "\n",
    "engine = create_engine(\"sqlite:///Northwind_small.sqlite\", echo=True)\n",
    "Session = sessionmaker(bind=engine)\n",
    "session = Session()"
   ]
  },
  {
   "cell_type": "markdown",
   "metadata": {},
   "source": [
    "\n",
    "Here I test my connection, while getting the names of allthe different tables.\n"
   ]
  },
  {
   "cell_type": "code",
   "execution_count": 2,
   "metadata": {},
   "outputs": [
    {
     "name": "stdout",
     "output_type": "stream",
     "text": [
      "2018-12-12 12:06:10,104 INFO sqlalchemy.engine.base.Engine SELECT CAST('test plain returns' AS VARCHAR(60)) AS anon_1\n",
      "2018-12-12 12:06:10,107 INFO sqlalchemy.engine.base.Engine ()\n",
      "2018-12-12 12:06:10,110 INFO sqlalchemy.engine.base.Engine SELECT CAST('test unicode returns' AS VARCHAR(60)) AS anon_1\n",
      "2018-12-12 12:06:10,111 INFO sqlalchemy.engine.base.Engine ()\n",
      "2018-12-12 12:06:10,114 INFO sqlalchemy.engine.base.Engine SELECT name FROM sqlite_master WHERE type='table' ORDER BY name\n",
      "2018-12-12 12:06:10,116 INFO sqlalchemy.engine.base.Engine ()\n",
      "['Category', 'Customer', 'CustomerCustomerDemo', 'CustomerDemographic', 'Employee', 'EmployeeTerritory', 'Order', 'OrderDetail', 'Product', 'Region', 'Shipper', 'Supplier', 'Territory']\n"
     ]
    }
   ],
   "source": [
    "inspector = inspect(engine)\n",
    "print(inspector.get_table_names())"
   ]
  },
  {
   "cell_type": "markdown",
   "metadata": {},
   "source": [
    "## Data Exploration"
   ]
  },
  {
   "cell_type": "markdown",
   "metadata": {},
   "source": [
    "Initially, I want to find if discount has any meaningful effect on the quantity in the order. I will be looking at the order detail table. Then, I convert the desired data into a dataframe and order it by descending discount category. "
   ]
  },
  {
   "cell_type": "code",
   "execution_count": 3,
   "metadata": {},
   "outputs": [
    {
     "name": "stdout",
     "output_type": "stream",
     "text": [
      "2018-12-12 12:06:19,518 INFO sqlalchemy.engine.base.Engine SELECT Id, Quantity, Discount FROM OrderDetail ORDER BY Discount DESC\n",
      "2018-12-12 12:06:19,519 INFO sqlalchemy.engine.base.Engine ()\n"
     ]
    },
    {
     "data": {
      "text/html": [
       "<div>\n",
       "<style scoped>\n",
       "    .dataframe tbody tr th:only-of-type {\n",
       "        vertical-align: middle;\n",
       "    }\n",
       "\n",
       "    .dataframe tbody tr th {\n",
       "        vertical-align: top;\n",
       "    }\n",
       "\n",
       "    .dataframe thead th {\n",
       "        text-align: right;\n",
       "    }\n",
       "</style>\n",
       "<table border=\"1\" class=\"dataframe\">\n",
       "  <thead>\n",
       "    <tr style=\"text-align: right;\">\n",
       "      <th></th>\n",
       "      <th>Id</th>\n",
       "      <th>Quantity</th>\n",
       "      <th>Discount</th>\n",
       "    </tr>\n",
       "  </thead>\n",
       "  <tbody>\n",
       "    <tr>\n",
       "      <th>0</th>\n",
       "      <td>10260/41</td>\n",
       "      <td>16</td>\n",
       "      <td>0.25</td>\n",
       "    </tr>\n",
       "    <tr>\n",
       "      <th>1</th>\n",
       "      <td>10260/62</td>\n",
       "      <td>15</td>\n",
       "      <td>0.25</td>\n",
       "    </tr>\n",
       "    <tr>\n",
       "      <th>2</th>\n",
       "      <td>10260/70</td>\n",
       "      <td>21</td>\n",
       "      <td>0.25</td>\n",
       "    </tr>\n",
       "    <tr>\n",
       "      <th>3</th>\n",
       "      <td>10263/16</td>\n",
       "      <td>60</td>\n",
       "      <td>0.25</td>\n",
       "    </tr>\n",
       "    <tr>\n",
       "      <th>4</th>\n",
       "      <td>10263/30</td>\n",
       "      <td>60</td>\n",
       "      <td>0.25</td>\n",
       "    </tr>\n",
       "  </tbody>\n",
       "</table>\n",
       "</div>"
      ],
      "text/plain": [
       "         Id  Quantity  Discount\n",
       "0  10260/41        16      0.25\n",
       "1  10260/62        15      0.25\n",
       "2  10260/70        21      0.25\n",
       "3  10263/16        60      0.25\n",
       "4  10263/30        60      0.25"
      ]
     },
     "execution_count": 3,
     "metadata": {},
     "output_type": "execute_result"
    }
   ],
   "source": [
    "import pandas as pd\n",
    "df = pd.read_sql_query(\"SELECT Id, Quantity, Discount FROM OrderDetail ORDER BY Discount DESC\", engine)\n",
    "df.head(5)"
   ]
  },
  {
   "cell_type": "markdown",
   "metadata": {},
   "source": [
    "Now I will do some basic exploration on the data I'm working with to make sure it doesn't need to be scrubbed. I find that all the data so far is complete."
   ]
  },
  {
   "cell_type": "code",
   "execution_count": 5,
   "metadata": {},
   "outputs": [
    {
     "name": "stdout",
     "output_type": "stream",
     "text": [
      "<class 'pandas.core.frame.DataFrame'>\n",
      "RangeIndex: 2155 entries, 0 to 2154\n",
      "Data columns (total 3 columns):\n",
      "Id          2155 non-null object\n",
      "Quantity    2155 non-null int64\n",
      "Discount    2155 non-null float64\n",
      "dtypes: float64(1), int64(1), object(1)\n",
      "memory usage: 50.6+ KB\n"
     ]
    }
   ],
   "source": [
    "df.shape\n",
    "df['Discount'].value_counts()\n",
    "df.info()"
   ]
  },
  {
   "cell_type": "markdown",
   "metadata": {},
   "source": [
    "To check for normality in the data, i will plot the histograms of the data. This will give me information about the distribution of the values."
   ]
  },
  {
   "cell_type": "code",
   "execution_count": 6,
   "metadata": {},
   "outputs": [],
   "source": [
    "import matplotlib.pyplot as plt\n",
    "%matplotlib inline"
   ]
  },
  {
   "cell_type": "code",
   "execution_count": 7,
   "metadata": {},
   "outputs": [
    {
     "data": {
      "image/png": "[encoded data removed]",
      "text/plain": [
       "<Figure size 432x288 with 2 Axes>"
      ]
     },
     "metadata": {},
     "output_type": "display_data"
    }
   ],
   "source": [
    "plt.figure(1)\n",
    "plt.subplot(121)\n",
    "plt.hist(df['Quantity'],bins=10)\n",
    "plt.title('Quantity Histogram')\n",
    "\n",
    "plt.subplot(122)\n",
    "plt.hist(df['Discount'],bins=10)\n",
    "plt.title('Discount Histogram')\n",
    "\n",
    "plt.show()\n"
   ]
  },
  {
   "cell_type": "markdown",
   "metadata": {},
   "source": [
    "### Required Question: Does discount amount have a statistically significant effect on the quantity of a product in an order? If so, at what level(s) of discount? "
   ]
  },
  {
   "cell_type": "markdown",
   "metadata": {},
   "source": [
    "#### Null Hypothesis: Discount has no statistically significant effect on the quantity of a product in an order.\n",
    "                               H0: μ <= 23.8"
   ]
  },
  {
   "cell_type": "markdown",
   "metadata": {},
   "source": [
    "#### Alternative Hypothesis: Discount has a statistically significant effect on the quantity of a product in an order.\n",
    "                                H1: μ > 23.8"
   ]
  },
  {
   "cell_type": "markdown",
   "metadata": {},
   "source": [
    "Here I split the data by discount rate, and make new dataframes for each discount rate, as well as a dataframe for each discout and more."
   ]
  },
  {
   "cell_type": "code",
   "execution_count": 8,
   "metadata": {},
   "outputs": [],
   "source": [
    "\n",
    "dfd0 = df.loc[df['Discount']==0]\n",
    "dfd05 = df.loc[df['Discount']==.05]\n",
    "dfd10 = df.loc[df['Discount']==.10]\n",
    "dfd15 = df.loc[df['Discount']==.15]\n",
    "dfd20 = df.loc[df['Discount']==.20]\n",
    "dfd25 = df.loc[df['Discount']==.25]\n",
    "dfdg0 = df.loc[df['Discount']>=0]\n",
    "dfdg05 = df.loc[df['Discount']>=.05]\n",
    "dfdg10 = df.loc[df['Discount']>=.10]\n",
    "dfdg15 = df.loc[df['Discount']>=.15]\n",
    "dfdg20 = df.loc[df['Discount']>=.20]\n"
   ]
  },
  {
   "cell_type": "code",
   "execution_count": 9,
   "metadata": {},
   "outputs": [],
   "source": [
    "\n",
    "#dfgdiscounts= [dfdg05,dfdg10,dfdg15,dfdg20]\n",
    "#z=.05\n",
    "#for x in dfgdiscounts: # This loop creathes individual dataframes for each level of discount and greater\n",
    "#    x= df.loc[df['Discount']>=y]\n",
    "#    z=z+.05\n",
    "##Here I printall the means of the different dataframes I created\n",
    "#print(df['Quantity'].mean(),dfd0['Quantity'].mean(),dfd05['Quantity'].mean(),dfd10['Quantity'].mean(),dfd15['Quantity'].mean(),dfd20['Quantity'].mean(),dfd25['Quantity'].mean())\n",
    "#popmean=21.715261958997722\n",
    "#\n",
    "#print(df['Quantity'].mean(),dfd0['Quantity'].mean(),dfd05['Quantity'].mean(),dfd10['Quantity'].mean(),dfd15['Quantity'].mean(),dfd20['Quantity'].mean(),dfd25['Quantity'].mean())\n",
    "#popmean=21.715261958997722"
   ]
  },
  {
   "cell_type": "code",
   "execution_count": 10,
   "metadata": {},
   "outputs": [
    {
     "name": "stdout",
     "output_type": "stream",
     "text": [
      "429.0853465515713\n",
      "306.2795924332751\n"
     ]
    }
   ],
   "source": [
    "print(np.var(dfdg05['Quantity']))\n",
    "print(np.var(dfd0['Quantity']))\n"
   ]
  },
  {
   "cell_type": "markdown",
   "metadata": {},
   "source": [
    "Here I print out the t test stat and p value for each dataframe created to the dataframe of 0 discounts"
   ]
  },
  {
   "cell_type": "code",
   "execution_count": 11,
   "metadata": {},
   "outputs": [
    {
     "name": "stdout",
     "output_type": "stream",
     "text": [
      "Discount at 05: Ttest_indResult(statistic=3.700844260760871, pvalue=0.00027233494432847593)\n",
      "Discount at 10: Ttest_indResult(statistic=2.094434281933477, pvalue=0.0374559661063408)\n",
      "Discount at 15: Ttest_indResult(statistic=3.8356620426605934, pvalue=0.00017220729443627393)\n",
      "Discount at 20: Ttest_indResult(statistic=3.4021239132172787, pvalue=0.0008110033254043408)\n",
      "Discount at 25: Ttest_indResult(statistic=3.8572676240072523, pvalue=0.00015923050922125637)\n",
      "Discount greater than 05: Ttest_indResult(statistic=6.477345419129347, pvalue=1.2507374609266095e-10)\n",
      "Discount greater than 10: Ttest_indResult(statistic=5.839357592401883, pvalue=6.849665473080279e-09)\n",
      "Discount greater than 15: Ttest_indResult(statistic=5.940019141658574, pvalue=4.366981547741107e-09)\n",
      "Discount greater than 20: Ttest_indResult(statistic=4.930325806949663, pvalue=1.1622115836900164e-06)\n"
     ]
    }
   ],
   "source": [
    "print( \"Discount at 05: \" + str(stats.ttest_ind(dfd05['Quantity'], dfd0['Quantity'], axis=0, equal_var=False, nan_policy='propagate')))\n",
    "print( \"Discount at 10: \" + str(stats.ttest_ind(dfd10['Quantity'], dfd0['Quantity'], axis=0, equal_var=False, nan_policy='propagate'))) \n",
    "print( \"Discount at 15: \" + str(stats.ttest_ind(dfd15['Quantity'], dfd0['Quantity'], axis=0, equal_var=False, nan_policy='propagate'))) \n",
    "print( \"Discount at 20: \" + str(stats.ttest_ind(dfd20['Quantity'], dfd0['Quantity'], axis=0, equal_var=False, nan_policy='propagate'))) \n",
    "print( \"Discount at 25: \" + str(stats.ttest_ind(dfd25['Quantity'], dfd0['Quantity'], axis=0, equal_var=False, nan_policy='propagate'))) \n",
    "\n",
    "print( \"Discount greater than 05: \" + str(stats.ttest_ind(dfdg05['Quantity'], dfd0['Quantity'], axis=0, equal_var=False, nan_policy='propagate')))\n",
    "print( \"Discount greater than 10: \" + str(stats.ttest_ind(dfdg10['Quantity'], dfd0['Quantity'], axis=0, equal_var=False, nan_policy='propagate'))) \n",
    "print( \"Discount greater than 15: \" + str(stats.ttest_ind(dfdg15['Quantity'], dfd0['Quantity'], axis=0, equal_var=False, nan_policy='propagate'))) \n",
    "print( \"Discount greater than 20: \" + str(stats.ttest_ind(dfdg20['Quantity'], dfd0['Quantity'], axis=0, equal_var=False, nan_policy='propagate'))) "
   ]
  },
  {
   "cell_type": "code",
   "execution_count": 12,
   "metadata": {},
   "outputs": [],
   "source": [
    "#y=0\n",
    "#for x in dfdiscounts:\n",
    "#    print(str(y) + \": \" + str(stats.ttest_ind(x['Quantity'], dfd0['Quantity'], axis=0, equal_var=False, nan_policy='propagate'))) \n",
    "#    y=y+.05\n",
    "#y=0\n",
    "#for x in dfgdiscounts:\n",
    "#    y=y+.05\n",
    "#    print(str(y) + \"+: \" + str(stats.ttest_ind(x['Quantity'], dfd0['Quantity'], axis=0, equal_var=False, nan_policy='propagate')))"
   ]
  },
  {
   "cell_type": "markdown",
   "metadata": {},
   "source": [
    "Using the two tailed, two sample t tests, we see that the discount definitely has an effect on quantity ordered.\n",
    "\n",
    "This code builds a function that runs a one tailed t test. I chose one tail, because we are only interested in discounts increasing quantity or order. "
   ]
  },
  {
   "cell_type": "code",
   "execution_count": 13,
   "metadata": {},
   "outputs": [],
   "source": [
    "def one_sample_ttest(sample, popmean, alpha):\n",
    "    mu = popmean\n",
    "    x_bar= sample.mean()\n",
    "    sigma = np.std(sample)\n",
    "    df = len(sample) - 1\n",
    "    t_crit = stats.t.ppf(1 - alpha, df=df)\n",
    "    results = stats.ttest_1samp(a= sample, popmean= mu)           \n",
    "    if (results[0]>t_crit) and (results[1]<alpha):\n",
    "        print (\"Null hypothesis rejected. Results are statistically significant with t-value =\", \n",
    "                round(results[0], 2), \"critical t-value =\", t_crit, \"and p-value =\", np.round((results[1]), 10))\n",
    "    else:\n",
    "        print (\"Null hypothesis is True with t-value =\", \n",
    "                round(results[0], 2), \", critical t-value =\", t_crit, \"and p-value =\", np.round((results[1]), 10))\n"
   ]
  },
  {
   "cell_type": "markdown",
   "metadata": {},
   "source": [
    "So we can say with very high certainty that adding a discount affects the mean quantity inan order, now I will test more specific levels of discounts. "
   ]
  },
  {
   "cell_type": "code",
   "execution_count": 14,
   "metadata": {},
   "outputs": [],
   "source": [
    "#y=.05\n",
    "#for x in dfgdiscounts:\n",
    "#    print(str(y)+ \" and above discounts:\")\n",
    "#    one_sample_ttest(x['Quantity'], popmean, .05)\n",
    "#    y=y+.05\n",
    "    \n",
    "#y=0\n",
    "#for x in dfdiscounts:\n",
    "#    print(str(y)+ \" discounts:\")\n",
    "#    one_sample_ttest(x['Quantity'], popmean, .05)\n",
    "#    y=y+.05"
   ]
  },
  {
   "cell_type": "code",
   "execution_count": 15,
   "metadata": {},
   "outputs": [
    {
     "data": {
      "image/png": "[encoded data removed]",
      "text/plain": [
       "<Figure size 864x576 with 1 Axes>"
      ]
     },
     "metadata": {},
     "output_type": "display_data"
    }
   ],
   "source": [
    "plt.figure(figsize=(12, 8))\n",
    "plt.hist(dfdg05.Quantity, alpha=.3, color= 'r', bins=30, label= 'Discounted Items')\n",
    "plt.hist(dfd0.Quantity, alpha=.3,  color= 'black', bins=30, label= 'Non- Discounted Items')\n",
    "plt.xlabel('Quantity of Item Ordered', fontsize= 15)\n",
    "plt.ylabel('Frequency', fontsize= 15)\n",
    "plt.title('Frequency of Quantity of orders in Discounted v Non Discounted Products')\n",
    "plt.legend()\n",
    "plt.show()"
   ]
  },
  {
   "cell_type": "code",
   "execution_count": 16,
   "metadata": {},
   "outputs": [
    {
     "data": {
      "image/png": "[encoded data removed]",
      "text/plain": [
       "<Figure size 864x576 with 1 Axes>"
      ]
     },
     "metadata": {},
     "output_type": "display_data"
    }
   ],
   "source": [
    "plt.figure(figsize=(12, 8))\n",
    "dfdg05.Quantity.plot.kde()\n",
    "dfd0.Quantity.plot.kde()\n",
    "plt.xlabel('Quantity of Item Ordered', fontsize= 15)\n",
    "plt.ylabel('Frequency', fontsize= 15)\n",
    "plt.title('Frequency of Quantity of orders in Discounted v Non Discounted Products', fontsize= 20)\n",
    "plt.legend()\n",
    "plt.show()"
   ]
  },
  {
   "cell_type": "markdown",
   "metadata": {},
   "source": [
    "#### Calculating Effect Size\n",
    "\n",
    "The effect size for this difference is about.3, meaning the Cohen's D is small- average. "
   ]
  },
  {
   "cell_type": "code",
   "execution_count": 17,
   "metadata": {},
   "outputs": [
    {
     "data": {
      "text/plain": [
       "0.2923376080485825"
      ]
     },
     "execution_count": 17,
     "metadata": {},
     "output_type": "execute_result"
    }
   ],
   "source": [
    "cohens_d = (dfdg05.Quantity.mean() - dfd0.Quantity.mean()) / (((dfdg05.Quantity.std() ** 2 + dfd0.Quantity.std() ** 2) / 2)**.5)\n",
    "cohens_d"
   ]
  },
  {
   "cell_type": "markdown",
   "metadata": {},
   "source": [
    "## Conclusion\n",
    "\n",
    "### From these one tail and two tail two sample t-test, I can confidently reject the null hypothesis and say discount increases the quantity per order. When looking more closely, it looks like .25 and .15 discounts are the most significantly different from no discount.\n",
    "\n",
    "### As for the grouped discount bundles, the more dicounted orders included, the more significant impact th discount has on order quantity."
   ]
  },
  {
   "cell_type": "markdown",
   "metadata": {},
   "source": [
    "\n",
    "\n",
    "## Question 1: Do discounts cause people to reorder items?\n"
   ]
  },
  {
   "cell_type": "markdown",
   "metadata": {},
   "source": [
    "#### Null Hypothesis: Discount has no statistically significant effect on the Reorder level of a product.\n",
    "                               H0: μ = 12.47 (Reorder Level mean)"
   ]
  },
  {
   "cell_type": "markdown",
   "metadata": {},
   "source": [
    "#### Alternative Hypothesis: Discount has a statistically significant effect on the Reorder Level of a product.\n",
    "                                H1: μ != 12.47"
   ]
  },
  {
   "cell_type": "markdown",
   "metadata": {},
   "source": [
    "For this question, I split the data into two segments, products with nd without discounts. "
   ]
  },
  {
   "cell_type": "code",
   "execution_count": 18,
   "metadata": {},
   "outputs": [
    {
     "name": "stdout",
     "output_type": "stream",
     "text": [
      "2018-12-12 12:07:08,646 INFO sqlalchemy.engine.base.Engine SELECT OrderDetail.productid ,OrderDetail.orderid ,OrderDetail.UnitPrice, OrderDetail.Quantity, OrderDetail.Discount, Product.ReorderLevel  FROM OrderDetail LEFT JOIN Product ON ProductId\n",
      "2018-12-12 12:07:08,647 INFO sqlalchemy.engine.base.Engine ()\n",
      "2018-12-12 12:07:09,267 INFO sqlalchemy.engine.base.Engine SELECT *  FROM OrderDetail\n",
      "2018-12-12 12:07:09,268 INFO sqlalchemy.engine.base.Engine ()\n",
      "2018-12-12 12:07:09,280 INFO sqlalchemy.engine.base.Engine SELECT *  FROM Product\n",
      "2018-12-12 12:07:09,281 INFO sqlalchemy.engine.base.Engine ()\n"
     ]
    }
   ],
   "source": [
    "df3 = pd.read_sql_query(\"SELECT OrderDetail.productid ,OrderDetail.orderid ,OrderDetail.UnitPrice, OrderDetail.Quantity, OrderDetail.Discount, Product.ReorderLevel  FROM OrderDetail LEFT JOIN Product ON ProductId\", engine)\n",
    "df31 = pd.read_sql_query(\"SELECT *  FROM OrderDetail\", engine)\n",
    "df32 = pd.read_sql_query(\"SELECT *  FROM Product\", engine)\n"
   ]
  },
  {
   "cell_type": "code",
   "execution_count": 19,
   "metadata": {},
   "outputs": [
    {
     "name": "stdout",
     "output_type": "stream",
     "text": [
      "165935\n",
      "2155\n",
      "77\n"
     ]
    }
   ],
   "source": [
    "print(len(df3))\n",
    "print(len(df31))\n",
    "print(len(df32))"
   ]
  },
  {
   "cell_type": "code",
   "execution_count": 20,
   "metadata": {},
   "outputs": [],
   "source": [
    "df3D= df3.loc[df3['Discount']>0]\n",
    "df3ND= df3.loc[df3['Discount']==0]"
   ]
  },
  {
   "cell_type": "code",
   "execution_count": 21,
   "metadata": {},
   "outputs": [
    {
     "data": {
      "text/html": [
       "<div>\n",
       "<style scoped>\n",
       "    .dataframe tbody tr th:only-of-type {\n",
       "        vertical-align: middle;\n",
       "    }\n",
       "\n",
       "    .dataframe tbody tr th {\n",
       "        vertical-align: top;\n",
       "    }\n",
       "\n",
       "    .dataframe thead th {\n",
       "        text-align: right;\n",
       "    }\n",
       "</style>\n",
       "<table border=\"1\" class=\"dataframe\">\n",
       "  <thead>\n",
       "    <tr style=\"text-align: right;\">\n",
       "      <th></th>\n",
       "      <th>ProductId</th>\n",
       "      <th>OrderId</th>\n",
       "      <th>UnitPrice</th>\n",
       "      <th>Quantity</th>\n",
       "      <th>Discount</th>\n",
       "      <th>ReorderLevel</th>\n",
       "    </tr>\n",
       "  </thead>\n",
       "  <tbody>\n",
       "    <tr>\n",
       "      <th>462</th>\n",
       "      <td>51</td>\n",
       "      <td>10250</td>\n",
       "      <td>42.4</td>\n",
       "      <td>35</td>\n",
       "      <td>0.15</td>\n",
       "      <td>10</td>\n",
       "    </tr>\n",
       "    <tr>\n",
       "      <th>463</th>\n",
       "      <td>51</td>\n",
       "      <td>10250</td>\n",
       "      <td>42.4</td>\n",
       "      <td>35</td>\n",
       "      <td>0.15</td>\n",
       "      <td>25</td>\n",
       "    </tr>\n",
       "    <tr>\n",
       "      <th>464</th>\n",
       "      <td>51</td>\n",
       "      <td>10250</td>\n",
       "      <td>42.4</td>\n",
       "      <td>35</td>\n",
       "      <td>0.15</td>\n",
       "      <td>25</td>\n",
       "    </tr>\n",
       "    <tr>\n",
       "      <th>465</th>\n",
       "      <td>51</td>\n",
       "      <td>10250</td>\n",
       "      <td>42.4</td>\n",
       "      <td>35</td>\n",
       "      <td>0.15</td>\n",
       "      <td>0</td>\n",
       "    </tr>\n",
       "    <tr>\n",
       "      <th>466</th>\n",
       "      <td>51</td>\n",
       "      <td>10250</td>\n",
       "      <td>42.4</td>\n",
       "      <td>35</td>\n",
       "      <td>0.15</td>\n",
       "      <td>0</td>\n",
       "    </tr>\n",
       "  </tbody>\n",
       "</table>\n",
       "</div>"
      ],
      "text/plain": [
       "     ProductId  OrderId  UnitPrice  Quantity  Discount  ReorderLevel\n",
       "462         51    10250       42.4        35      0.15            10\n",
       "463         51    10250       42.4        35      0.15            25\n",
       "464         51    10250       42.4        35      0.15            25\n",
       "465         51    10250       42.4        35      0.15             0\n",
       "466         51    10250       42.4        35      0.15             0"
      ]
     },
     "execution_count": 21,
     "metadata": {},
     "output_type": "execute_result"
    }
   ],
   "source": [
    "df3D.head()"
   ]
  },
  {
   "cell_type": "code",
   "execution_count": 22,
   "metadata": {},
   "outputs": [
    {
     "name": "stdout",
     "output_type": "stream",
     "text": [
      "12.467532467532468\n",
      "12.467532467532468\n"
     ]
    }
   ],
   "source": [
    "print(df3D['ReorderLevel'].mean())\n",
    "print(df3ND['ReorderLevel'].mean())\n"
   ]
  },
  {
   "cell_type": "code",
   "execution_count": 23,
   "metadata": {},
   "outputs": [
    {
     "data": {
      "text/plain": [
       "0.05    14245\n",
       "0.10    13321\n",
       "0.20    12397\n",
       "0.15    12089\n",
       "0.25    11858\n",
       "0.03      231\n",
       "0.02      154\n",
       "0.01       77\n",
       "0.04       77\n",
       "0.06       77\n",
       "Name: Discount, dtype: int64"
      ]
     },
     "execution_count": 23,
     "metadata": {},
     "output_type": "execute_result"
    }
   ],
   "source": [
    "df3D['Discount'].value_counts()"
   ]
  },
  {
   "cell_type": "code",
   "execution_count": 24,
   "metadata": {},
   "outputs": [
    {
     "name": "stdout",
     "output_type": "stream",
     "text": [
      "Reorder level:Ttest_indResult(statistic=0.0, pvalue=1.0)\n"
     ]
    }
   ],
   "source": [
    "print(\"Reorder level:\" + str(stats.ttest_ind(df3D['ReorderLevel'], df3ND['ReorderLevel'], axis=0, equal_var=True, nan_policy='propagate')))"
   ]
  },
  {
   "cell_type": "code",
   "execution_count": 25,
   "metadata": {},
   "outputs": [
    {
     "data": {
      "image/png": "[encoded data removed]",
      "text/plain": [
       "<Figure size 864x576 with 1 Axes>"
      ]
     },
     "metadata": {},
     "output_type": "display_data"
    }
   ],
   "source": [
    "plt.figure(figsize=(12, 8))\n",
    "\n",
    "df3D.ReorderLevel.plot.kde(label= 'Discounted Items')\n",
    "df3ND.ReorderLevel.plot.kde(label= 'Non- Discounted Items')\n",
    "plt.xlabel('Reorder Level', fontsize= 15)\n",
    "plt.ylabel('Frequency', fontsize= 15)\n",
    "plt.title('Frequency of Reorder Level in Discounted v Non Discounted Products', fontsize= 20)\n",
    "plt.legend()\n",
    "plt.show()"
   ]
  },
  {
   "cell_type": "markdown",
   "metadata": {},
   "source": [
    "#### Calculating Effect Size:\n",
    "\n",
    "The Cohen's D value is 0, meaning that there is no difference between these two sets."
   ]
  },
  {
   "cell_type": "code",
   "execution_count": 26,
   "metadata": {},
   "outputs": [
    {
     "data": {
      "text/plain": [
       "0.0"
      ]
     },
     "execution_count": 26,
     "metadata": {},
     "output_type": "execute_result"
    }
   ],
   "source": [
    "cohens_d = (df3D['ReorderLevel'].mean() - df3ND['ReorderLevel'].mean()) / (((df3D['ReorderLevel'].std() ** 2 + df3ND['ReorderLevel'].std() ** 2) / 2)**.5)\n",
    "cohens_d"
   ]
  },
  {
   "cell_type": "markdown",
   "metadata": {},
   "source": [
    "### Conclusion: After running a two-tailed two-sample t-test, we cannot reject our null hypothesis. This mens we cannot say discount has a significant impact on the reorder level."
   ]
  },
  {
   "cell_type": "markdown",
   "metadata": {},
   "source": [
    "## Question 2: Do different shippers have significantly different shipping times?"
   ]
  },
  {
   "cell_type": "markdown",
   "metadata": {},
   "source": [
    "#### Null Hypothesis:There is no significant difference of shipping time between the different shippers,\n",
    "                               H0: μ1 = μ2 =μ3 "
   ]
  },
  {
   "cell_type": "markdown",
   "metadata": {},
   "source": [
    "#### Alternative Hypothesis: Thedifferent Shippers ship products in different times.\n",
    "                                H1: μ1 != μ2 OR μ1 != μ3 OR μ3 != μ2"
   ]
  },
  {
   "cell_type": "code",
   "execution_count": 27,
   "metadata": {},
   "outputs": [
    {
     "name": "stdout",
     "output_type": "stream",
     "text": [
      "2018-12-12 12:07:41,452 INFO sqlalchemy.engine.base.Engine SELECT `order`.OrderDate, `order`.ShippedDate, `order`.ShipVia FROM `order` \n",
      "2018-12-12 12:07:41,453 INFO sqlalchemy.engine.base.Engine ()\n"
     ]
    }
   ],
   "source": [
    "df4 = pd.read_sql_query(\"SELECT `order`.OrderDate, `order`.ShippedDate, `order`.ShipVia FROM `order` \", engine)\n"
   ]
  },
  {
   "cell_type": "code",
   "execution_count": 28,
   "metadata": {},
   "outputs": [],
   "source": [
    "import datetime\n",
    "df4['ShippedDate']=pd.to_datetime(df4['ShippedDate'])\n",
    "df4['OrderDate']=pd.to_datetime(df4['OrderDate'])"
   ]
  },
  {
   "cell_type": "code",
   "execution_count": 29,
   "metadata": {
    "scrolled": true
   },
   "outputs": [
    {
     "data": {
      "text/html": [
       "<div>\n",
       "<style scoped>\n",
       "    .dataframe tbody tr th:only-of-type {\n",
       "        vertical-align: middle;\n",
       "    }\n",
       "\n",
       "    .dataframe tbody tr th {\n",
       "        vertical-align: top;\n",
       "    }\n",
       "\n",
       "    .dataframe thead th {\n",
       "        text-align: right;\n",
       "    }\n",
       "</style>\n",
       "<table border=\"1\" class=\"dataframe\">\n",
       "  <thead>\n",
       "    <tr style=\"text-align: right;\">\n",
       "      <th></th>\n",
       "      <th>OrderDate</th>\n",
       "      <th>ShippedDate</th>\n",
       "      <th>ShipVia</th>\n",
       "    </tr>\n",
       "  </thead>\n",
       "  <tbody>\n",
       "    <tr>\n",
       "      <th>0</th>\n",
       "      <td>2012-07-04</td>\n",
       "      <td>2012-07-16</td>\n",
       "      <td>3</td>\n",
       "    </tr>\n",
       "    <tr>\n",
       "      <th>1</th>\n",
       "      <td>2012-07-05</td>\n",
       "      <td>2012-07-10</td>\n",
       "      <td>1</td>\n",
       "    </tr>\n",
       "    <tr>\n",
       "      <th>2</th>\n",
       "      <td>2012-07-08</td>\n",
       "      <td>2012-07-12</td>\n",
       "      <td>2</td>\n",
       "    </tr>\n",
       "    <tr>\n",
       "      <th>3</th>\n",
       "      <td>2012-07-08</td>\n",
       "      <td>2012-07-15</td>\n",
       "      <td>1</td>\n",
       "    </tr>\n",
       "    <tr>\n",
       "      <th>4</th>\n",
       "      <td>2012-07-09</td>\n",
       "      <td>2012-07-11</td>\n",
       "      <td>2</td>\n",
       "    </tr>\n",
       "  </tbody>\n",
       "</table>\n",
       "</div>"
      ],
      "text/plain": [
       "   OrderDate ShippedDate  ShipVia\n",
       "0 2012-07-04  2012-07-16        3\n",
       "1 2012-07-05  2012-07-10        1\n",
       "2 2012-07-08  2012-07-12        2\n",
       "3 2012-07-08  2012-07-15        1\n",
       "4 2012-07-09  2012-07-11        2"
      ]
     },
     "execution_count": 29,
     "metadata": {},
     "output_type": "execute_result"
    }
   ],
   "source": [
    "df4.head()"
   ]
  },
  {
   "cell_type": "code",
   "execution_count": 30,
   "metadata": {},
   "outputs": [],
   "source": [
    "df4.dropna(inplace=True)"
   ]
  },
  {
   "cell_type": "code",
   "execution_count": 31,
   "metadata": {},
   "outputs": [
    {
     "data": {
      "text/html": [
       "<div>\n",
       "<style scoped>\n",
       "    .dataframe tbody tr th:only-of-type {\n",
       "        vertical-align: middle;\n",
       "    }\n",
       "\n",
       "    .dataframe tbody tr th {\n",
       "        vertical-align: top;\n",
       "    }\n",
       "\n",
       "    .dataframe thead th {\n",
       "        text-align: right;\n",
       "    }\n",
       "</style>\n",
       "<table border=\"1\" class=\"dataframe\">\n",
       "  <thead>\n",
       "    <tr style=\"text-align: right;\">\n",
       "      <th></th>\n",
       "      <th>OrderDate</th>\n",
       "      <th>ShippedDate</th>\n",
       "      <th>ShipVia</th>\n",
       "    </tr>\n",
       "  </thead>\n",
       "  <tbody>\n",
       "    <tr>\n",
       "      <th>815</th>\n",
       "      <td>2014-04-30</td>\n",
       "      <td>2014-05-06</td>\n",
       "      <td>2</td>\n",
       "    </tr>\n",
       "    <tr>\n",
       "      <th>816</th>\n",
       "      <td>2014-05-01</td>\n",
       "      <td>2014-05-04</td>\n",
       "      <td>1</td>\n",
       "    </tr>\n",
       "    <tr>\n",
       "      <th>818</th>\n",
       "      <td>2014-05-01</td>\n",
       "      <td>2014-05-04</td>\n",
       "      <td>2</td>\n",
       "    </tr>\n",
       "    <tr>\n",
       "      <th>819</th>\n",
       "      <td>2014-05-04</td>\n",
       "      <td>2014-05-06</td>\n",
       "      <td>2</td>\n",
       "    </tr>\n",
       "    <tr>\n",
       "      <th>821</th>\n",
       "      <td>2014-05-04</td>\n",
       "      <td>2014-05-06</td>\n",
       "      <td>2</td>\n",
       "    </tr>\n",
       "  </tbody>\n",
       "</table>\n",
       "</div>"
      ],
      "text/plain": [
       "     OrderDate ShippedDate  ShipVia\n",
       "815 2014-04-30  2014-05-06        2\n",
       "816 2014-05-01  2014-05-04        1\n",
       "818 2014-05-01  2014-05-04        2\n",
       "819 2014-05-04  2014-05-06        2\n",
       "821 2014-05-04  2014-05-06        2"
      ]
     },
     "execution_count": 31,
     "metadata": {},
     "output_type": "execute_result"
    }
   ],
   "source": [
    "df4.tail()"
   ]
  },
  {
   "cell_type": "code",
   "execution_count": 32,
   "metadata": {
    "scrolled": true
   },
   "outputs": [
    {
     "data": {
      "text/plain": [
       "809"
      ]
     },
     "execution_count": 32,
     "metadata": {},
     "output_type": "execute_result"
    }
   ],
   "source": [
    "len(df4['OrderDate'])"
   ]
  },
  {
   "cell_type": "code",
   "execution_count": 33,
   "metadata": {
    "scrolled": true
   },
   "outputs": [
    {
     "data": {
      "text/plain": [
       "OrderDate      datetime64[ns]\n",
       "ShippedDate    datetime64[ns]\n",
       "ShipVia                 int64\n",
       "dtype: object"
      ]
     },
     "execution_count": 33,
     "metadata": {},
     "output_type": "execute_result"
    }
   ],
   "source": [
    "import datetime\n",
    "from datetime import timedelta\n",
    "df4.dtypes\n",
    "\n"
   ]
  },
  {
   "cell_type": "code",
   "execution_count": 34,
   "metadata": {},
   "outputs": [],
   "source": [
    "df4['ShipTime']= df4['ShippedDate']- df4['OrderDate']"
   ]
  },
  {
   "cell_type": "code",
   "execution_count": 35,
   "metadata": {},
   "outputs": [
    {
     "data": {
      "text/html": [
       "<div>\n",
       "<style scoped>\n",
       "    .dataframe tbody tr th:only-of-type {\n",
       "        vertical-align: middle;\n",
       "    }\n",
       "\n",
       "    .dataframe tbody tr th {\n",
       "        vertical-align: top;\n",
       "    }\n",
       "\n",
       "    .dataframe thead th {\n",
       "        text-align: right;\n",
       "    }\n",
       "</style>\n",
       "<table border=\"1\" class=\"dataframe\">\n",
       "  <thead>\n",
       "    <tr style=\"text-align: right;\">\n",
       "      <th></th>\n",
       "      <th>OrderDate</th>\n",
       "      <th>ShippedDate</th>\n",
       "      <th>ShipVia</th>\n",
       "      <th>ShipTime</th>\n",
       "    </tr>\n",
       "  </thead>\n",
       "  <tbody>\n",
       "    <tr>\n",
       "      <th>815</th>\n",
       "      <td>2014-04-30</td>\n",
       "      <td>2014-05-06</td>\n",
       "      <td>2</td>\n",
       "      <td>6 days</td>\n",
       "    </tr>\n",
       "    <tr>\n",
       "      <th>816</th>\n",
       "      <td>2014-05-01</td>\n",
       "      <td>2014-05-04</td>\n",
       "      <td>1</td>\n",
       "      <td>3 days</td>\n",
       "    </tr>\n",
       "    <tr>\n",
       "      <th>818</th>\n",
       "      <td>2014-05-01</td>\n",
       "      <td>2014-05-04</td>\n",
       "      <td>2</td>\n",
       "      <td>3 days</td>\n",
       "    </tr>\n",
       "    <tr>\n",
       "      <th>819</th>\n",
       "      <td>2014-05-04</td>\n",
       "      <td>2014-05-06</td>\n",
       "      <td>2</td>\n",
       "      <td>2 days</td>\n",
       "    </tr>\n",
       "    <tr>\n",
       "      <th>821</th>\n",
       "      <td>2014-05-04</td>\n",
       "      <td>2014-05-06</td>\n",
       "      <td>2</td>\n",
       "      <td>2 days</td>\n",
       "    </tr>\n",
       "  </tbody>\n",
       "</table>\n",
       "</div>"
      ],
      "text/plain": [
       "     OrderDate ShippedDate  ShipVia ShipTime\n",
       "815 2014-04-30  2014-05-06        2   6 days\n",
       "816 2014-05-01  2014-05-04        1   3 days\n",
       "818 2014-05-01  2014-05-04        2   3 days\n",
       "819 2014-05-04  2014-05-06        2   2 days\n",
       "821 2014-05-04  2014-05-06        2   2 days"
      ]
     },
     "execution_count": 35,
     "metadata": {},
     "output_type": "execute_result"
    }
   ],
   "source": [
    "df4.tail()"
   ]
  },
  {
   "cell_type": "code",
   "execution_count": 36,
   "metadata": {},
   "outputs": [],
   "source": [
    "df4.ShipTime=pd.to_numeric((df4.ShipTime/1000000000)/60/60)"
   ]
  },
  {
   "cell_type": "code",
   "execution_count": 37,
   "metadata": {},
   "outputs": [],
   "source": [
    "dfS1= df4.loc[df4['ShipVia']==1]\n",
    "dfS2= df4.loc[df4['ShipVia']==2]\n",
    "dfS3= df4.loc[df4['ShipVia']==3]\n",
    "dfS12= df4.loc[df4['ShipVia']< 3]"
   ]
  },
  {
   "cell_type": "code",
   "execution_count": 38,
   "metadata": {},
   "outputs": [
    {
     "data": {
      "text/plain": [
       "3    249\n",
       "Name: ShipVia, dtype: int64"
      ]
     },
     "execution_count": 38,
     "metadata": {},
     "output_type": "execute_result"
    }
   ],
   "source": [
    "dfS3['ShipVia'].value_counts()"
   ]
  },
  {
   "cell_type": "code",
   "execution_count": 39,
   "metadata": {},
   "outputs": [
    {
     "name": "stdout",
     "output_type": "stream",
     "text": [
      "205.71428571428572\n",
      "221.63809523809525\n",
      "179.3734939759036\n",
      "214.67142857142858\n",
      "26458.22950819672\n",
      "33284.39090081894\n",
      "18585.476875242897\n",
      "30307.784513161194\n"
     ]
    }
   ],
   "source": [
    "print(dfS1['ShipTime'].mean())\n",
    "print(dfS2['ShipTime'].mean())\n",
    "print(dfS3['ShipTime'].mean())\n",
    "print(dfS12['ShipTime'].mean())\n",
    "print(dfS1['ShipTime'].var())\n",
    "print(dfS2['ShipTime'].var())\n",
    "print(dfS3['ShipTime'].var())\n",
    "print(dfS12['ShipTime'].var())"
   ]
  },
  {
   "cell_type": "code",
   "execution_count": 40,
   "metadata": {},
   "outputs": [
    {
     "name": "stdout",
     "output_type": "stream",
     "text": [
      "Shipper 1 Vs Shipper 2:Ttest_indResult(statistic=-1.0894013175761144, pvalue=0.2764560772539014)\n",
      "Shipper 1 Vs Shipper 3:Ttest_indResult(statistic=1.9491214877578547, pvalue=0.05186949269647637)\n",
      "Shipper 2 Vs Shipper 3:Ttest_indResult(statistic=3.1475500683546827, pvalue=0.001733997491436526)\n",
      "Shipper 1&2 Vs Shipper 3:Ttest_indResult(statistic=3.11068659879943, pvalue=0.0019553674987940984)\n"
     ]
    }
   ],
   "source": [
    "print(\"Shipper 1 Vs Shipper 2:\" + str(stats.ttest_ind(dfS1['ShipTime'], dfS2['ShipTime'], axis=0, equal_var=False, nan_policy='propagate')))\n",
    "print(\"Shipper 1 Vs Shipper 3:\" + str(stats.ttest_ind(dfS1['ShipTime'], dfS3['ShipTime'], axis=0, equal_var=False, nan_policy='propagate')))\n",
    "print(\"Shipper 2 Vs Shipper 3:\" + str(stats.ttest_ind(dfS2['ShipTime'], dfS3['ShipTime'], axis=0, equal_var=False, nan_policy='propagate')))\n",
    "print(\"Shipper 1&2 Vs Shipper 3:\" + str(stats.ttest_ind(dfS12['ShipTime'], dfS3['ShipTime'], axis=0, equal_var=False, nan_policy='propagate')))"
   ]
  },
  {
   "cell_type": "code",
   "execution_count": 41,
   "metadata": {},
   "outputs": [
    {
     "data": {
      "image/png": "[encoded data removed]",
      "text/plain": [
       "<Figure size 432x288 with 1 Axes>"
      ]
     },
     "metadata": {},
     "output_type": "display_data"
    },
    {
     "data": {
      "image/png": "[encoded data removed]",
      "text/plain": [
       "<Figure size 432x288 with 1 Axes>"
      ]
     },
     "metadata": {},
     "output_type": "display_data"
    },
    {
     "data": {
      "image/png": "[encoded data removed]",
      "text/plain": [
       "<Figure size 432x288 with 1 Axes>"
      ]
     },
     "metadata": {},
     "output_type": "display_data"
    },
    {
     "data": {
      "image/png": "[encoded data removed]",
      "text/plain": [
       "<Figure size 432x288 with 1 Axes>"
      ]
     },
     "metadata": {},
     "output_type": "display_data"
    }
   ],
   "source": [
    "plt.hist(dfS1['ShipTime'], alpha= .5)\n",
    "plt.xlabel('Ship Time', fontsize= 15)\n",
    "plt.ylabel('Frequency', fontsize= 15)\n",
    "plt.title('Frequency of Shiptime per Shipper1', fontsize= 20)\n",
    "plt.show()\n",
    "\n",
    "plt.hist(dfS2['ShipTime'], alpha= .5)\n",
    "plt.xlabel('Ship Time', fontsize= 15)\n",
    "plt.ylabel('Frequency', fontsize= 15)\n",
    "plt.title('Frequency of Shiptime per Shipper2', fontsize= 20)\n",
    "plt.show()\n",
    "\n",
    "plt.hist(dfS3['ShipTime'], alpha= .5)\n",
    "plt.xlabel('Ship Time', fontsize= 15)\n",
    "plt.ylabel('Frequency', fontsize= 15)\n",
    "plt.title('Frequency of Shiptime per Shipper3', fontsize= 20)\n",
    "plt.show()\n",
    "\n",
    "plt.hist(dfS12['ShipTime'], alpha= .5, color = 'r', label='1&2')\n",
    "plt.hist(dfS3['ShipTime'], alpha= .5, label= '3')\n",
    "plt.xlabel('Ship Time', fontsize= 15)\n",
    "plt.ylabel('Frequency', fontsize= 15)\n",
    "plt.title('Frequency of Shiptime per Shipper1&2 vs 3', fontsize= 20)\n",
    "plt.legend()\n",
    "plt.show()"
   ]
  },
  {
   "cell_type": "markdown",
   "metadata": {},
   "source": [
    "#### Calculating Effect Size\n",
    "\n",
    "The Cohen's D is .38 which is small to average. This means the effect size is slightly smaller than average."
   ]
  },
  {
   "cell_type": "code",
   "execution_count": 42,
   "metadata": {},
   "outputs": [
    {
     "data": {
      "text/plain": [
       "-0.2257562529385852"
      ]
     },
     "execution_count": 42,
     "metadata": {},
     "output_type": "execute_result"
    }
   ],
   "source": [
    "cohens_d = (dfS3['ShipTime'].mean() - dfS12['ShipTime'].mean()) / (((dfS3['ShipTime'].std() ** 2 + dfS12['ShipTime'].std() ** 2) / 2)**.5)\n",
    "cohens_d"
   ]
  },
  {
   "cell_type": "markdown",
   "metadata": {},
   "source": [
    "### Conclusion:The third shipping company delivers products significantly faster than the other two shippers."
   ]
  },
  {
   "cell_type": "markdown",
   "metadata": {},
   "source": [
    "## Question 3: Does Discount on a product have an effect on the Revenue of the Product"
   ]
  },
  {
   "cell_type": "markdown",
   "metadata": {},
   "source": [
    "#### Null Hypothesis: Discount has no statistically significant effect on the Revenue of a product in an order.\n",
    "                               H0: μ = 923541(AVG Revenue)"
   ]
  },
  {
   "cell_type": "markdown",
   "metadata": {},
   "source": [
    "#### Alternative Hypothesis: Discount has a statistically significant effect on the revenue of a product in an order.\n",
    "                                H1: μ != 923541"
   ]
  },
  {
   "cell_type": "markdown",
   "metadata": {},
   "source": [
    "In this question, I will divide the dataset into two segments, no discount and discount, and then test if the means are significantly different using a two sample two tailed t test."
   ]
  },
  {
   "cell_type": "code",
   "execution_count": 43,
   "metadata": {},
   "outputs": [
    {
     "name": "stdout",
     "output_type": "stream",
     "text": [
      "2018-12-12 12:08:56,579 INFO sqlalchemy.engine.base.Engine SELECT `order`.EmployeeId, OrderDetail.UnitPrice, OrderDetail.Quantity, OrderDetail.Discount FROM `order` LEFT JOIN OrderDetail ON `order`.id\n",
      "2018-12-12 12:08:56,580 INFO sqlalchemy.engine.base.Engine ()\n"
     ]
    }
   ],
   "source": [
    "df5 = pd.read_sql_query(\"SELECT `order`.EmployeeId, OrderDetail.UnitPrice, OrderDetail.Quantity, OrderDetail.Discount FROM `order` LEFT JOIN OrderDetail ON `order`.id\", engine)"
   ]
  },
  {
   "cell_type": "code",
   "execution_count": 46,
   "metadata": {},
   "outputs": [],
   "source": [
    "df5['Revenue']= df5['Quantity']*df5['UnitPrice']*(1 - df5['Discount'])"
   ]
  },
  {
   "cell_type": "code",
   "execution_count": 47,
   "metadata": {},
   "outputs": [
    {
     "data": {
      "text/html": [
       "<div>\n",
       "<style scoped>\n",
       "    .dataframe tbody tr th:only-of-type {\n",
       "        vertical-align: middle;\n",
       "    }\n",
       "\n",
       "    .dataframe tbody tr th {\n",
       "        vertical-align: top;\n",
       "    }\n",
       "\n",
       "    .dataframe thead th {\n",
       "        text-align: right;\n",
       "    }\n",
       "</style>\n",
       "<table border=\"1\" class=\"dataframe\">\n",
       "  <thead>\n",
       "    <tr style=\"text-align: right;\">\n",
       "      <th></th>\n",
       "      <th>EmployeeId</th>\n",
       "      <th>UnitPrice</th>\n",
       "      <th>Quantity</th>\n",
       "      <th>Discount</th>\n",
       "      <th>Revenue</th>\n",
       "    </tr>\n",
       "  </thead>\n",
       "  <tbody>\n",
       "    <tr>\n",
       "      <th>0</th>\n",
       "      <td>5</td>\n",
       "      <td>14.0</td>\n",
       "      <td>12</td>\n",
       "      <td>0.0</td>\n",
       "      <td>168.0</td>\n",
       "    </tr>\n",
       "    <tr>\n",
       "      <th>1</th>\n",
       "      <td>5</td>\n",
       "      <td>9.8</td>\n",
       "      <td>10</td>\n",
       "      <td>0.0</td>\n",
       "      <td>98.0</td>\n",
       "    </tr>\n",
       "    <tr>\n",
       "      <th>2</th>\n",
       "      <td>5</td>\n",
       "      <td>34.8</td>\n",
       "      <td>5</td>\n",
       "      <td>0.0</td>\n",
       "      <td>174.0</td>\n",
       "    </tr>\n",
       "    <tr>\n",
       "      <th>3</th>\n",
       "      <td>5</td>\n",
       "      <td>18.6</td>\n",
       "      <td>9</td>\n",
       "      <td>0.0</td>\n",
       "      <td>167.4</td>\n",
       "    </tr>\n",
       "    <tr>\n",
       "      <th>4</th>\n",
       "      <td>5</td>\n",
       "      <td>42.4</td>\n",
       "      <td>40</td>\n",
       "      <td>0.0</td>\n",
       "      <td>1696.0</td>\n",
       "    </tr>\n",
       "  </tbody>\n",
       "</table>\n",
       "</div>"
      ],
      "text/plain": [
       "   EmployeeId  UnitPrice  Quantity  Discount  Revenue\n",
       "0           5       14.0        12       0.0    168.0\n",
       "1           5        9.8        10       0.0     98.0\n",
       "2           5       34.8         5       0.0    174.0\n",
       "3           5       18.6         9       0.0    167.4\n",
       "4           5       42.4        40       0.0   1696.0"
      ]
     },
     "execution_count": 47,
     "metadata": {},
     "output_type": "execute_result"
    }
   ],
   "source": [
    "df5.head()"
   ]
  },
  {
   "cell_type": "code",
   "execution_count": 48,
   "metadata": {},
   "outputs": [],
   "source": [
    "df5d0= df5.loc[df5['Discount']==0]\n",
    "df5d05= df5.loc[df5['Discount']== .05]\n",
    "df5d10= df5.loc[df5['Discount']==.10]\n",
    "df5d15= df5.loc[df5['Discount']==.15]\n",
    "df5d20= df5.loc[df5['Discount']==.20]\n",
    "df5d25= df5.loc[df5['Discount']==.25]\n",
    "df5dg05= df5.loc[df5['Discount']>=.05]"
   ]
  },
  {
   "cell_type": "code",
   "execution_count": 49,
   "metadata": {},
   "outputs": [
    {
     "name": "stdout",
     "output_type": "stream",
     "text": [
      "923541.0155414399\n",
      "967281.3010657366\n"
     ]
    }
   ],
   "source": [
    "print(df5d0.Revenue.var())\n",
    "print(df5dg05.Revenue.var())"
   ]
  },
  {
   "cell_type": "code",
   "execution_count": 50,
   "metadata": {
    "scrolled": true
   },
   "outputs": [
    {
     "name": "stdout",
     "output_type": "stream",
     "text": [
      "Ttest_indResult(statistic=-33.01702845994579, pvalue=5.68855099642375e-239)\n"
     ]
    }
   ],
   "source": [
    "print( str(stats.ttest_ind(df5d0.Revenue, df5dg05.Revenue, axis=0, equal_var=False, nan_policy='propagate')))"
   ]
  },
  {
   "cell_type": "code",
   "execution_count": 51,
   "metadata": {},
   "outputs": [
    {
     "data": {
      "image/png": "[encoded data removed]",
      "text/plain": [
       "<Figure size 864x576 with 1 Axes>"
      ]
     },
     "metadata": {},
     "output_type": "display_data"
    }
   ],
   "source": [
    "plt.figure(figsize=(12, 8))\n",
    "\n",
    "plt.hist(df5d0.Revenue, alpha=.3, color= 'r', bins=50, label= 'Non-Discounted Items')\n",
    "plt.hist(df5dg05.Revenue, alpha=.3,  color= 'black', bins=50, label= 'Discounted Items')\n",
    "plt.xlabel('Revenue', fontsize= 15)\n",
    "plt.ylabel('Frequency', fontsize= 15)\n",
    "plt.title('Frequency of Revenue by item in Discounted v Non-Discounted Items', fontsize= 20)\n",
    "plt.xlim([0,3000])\n",
    "plt.legend()\n",
    "plt.show()"
   ]
  },
  {
   "cell_type": "markdown",
   "metadata": {},
   "source": [
    "#### Calculating Effect  Size\n",
    "\n",
    "The effect size of this comparison is tiny."
   ]
  },
  {
   "cell_type": "code",
   "execution_count": 52,
   "metadata": {},
   "outputs": [
    {
     "data": {
      "text/plain": [
       "0.050904509786223184"
      ]
     },
     "execution_count": 52,
     "metadata": {},
     "output_type": "execute_result"
    }
   ],
   "source": [
    "cohens_d = (df5dg05.Revenue.mean() - df5d0.Revenue.mean()) / (((df5dg05.Revenue.std() ** 2 + df5d0.Revenue.std() ** 2) / 2)**.5)\n",
    "cohens_d"
   ]
  },
  {
   "cell_type": "code",
   "execution_count": 53,
   "metadata": {},
   "outputs": [],
   "source": [
    "import statsmodels.api as sm\n",
    "from statsmodels.formula.api import ols\n"
   ]
  },
  {
   "cell_type": "code",
   "execution_count": 54,
   "metadata": {},
   "outputs": [
    {
     "data": {
      "text/plain": [
       "F_onewayResult(statistic=1882.8921202323006, pvalue=0.0)"
      ]
     },
     "execution_count": 54,
     "metadata": {},
     "output_type": "execute_result"
    }
   ],
   "source": [
    "stats.f_oneway(df5d05['Revenue'],df5d10['Revenue'],df5d15['Revenue'],df5d20['Revenue'],df5d25['Revenue'])"
   ]
  },
  {
   "cell_type": "code",
   "execution_count": 64,
   "metadata": {},
   "outputs": [
    {
     "name": "stdout",
     "output_type": "stream",
     "text": [
      "                sum_sq         df          F        PR(>F)\n",
      "bb        7.238619e+07        1.0  77.095136  1.630569e-18\n",
      "Residual  1.679398e+12  1788648.0        NaN           NaN\n"
     ]
    }
   ],
   "source": [
    "#ANOVA Test of Revenue by discount level\n",
    "import statsmodels.api as sm\n",
    "from statsmodels.formula.api import ols\n",
    "aa = df5['Revenue']\n",
    "bb = df5['Discount']\n",
    "formula = 'aa ~ bb'\n",
    "lm = ols(formula, df5).fit()\n",
    "table = sm.stats.anova_lm(lm, typ=2)\n",
    "print(table)"
   ]
  },
  {
   "cell_type": "markdown",
   "metadata": {},
   "source": [
    "### Conclusion: After running the two-tail two-sample t-test, I reject the null hypothesis and accept the alternative hypothesis that the discount has a significant effect on the revenue generated from a product. The ANOVA testing determined that discount level has an effect on Revenue."
   ]
  },
  {
   "cell_type": "code",
   "execution_count": null,
   "metadata": {},
   "outputs": [],
   "source": []
  }
 ],
 "metadata": {
  "kernelspec": {
   "display_name": "Python 3",
   "language": "python",
   "name": "python3"
  },
  "language_info": {
   "codemirror_mode": {
    "name": "ipython",
    "version": 3
   },
   "file_extension": ".py",
   "mimetype": "text/x-python",
   "name": "python",
   "nbconvert_exporter": "python",
   "pygments_lexer": "ipython3",
   "version": "3.6.5"
  }
 },
 "nbformat": 4,
 "nbformat_minor": 2
}
